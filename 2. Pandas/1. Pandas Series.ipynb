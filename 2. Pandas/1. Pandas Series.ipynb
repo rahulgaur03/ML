{
 "cells": [
  {
   "cell_type": "code",
   "execution_count": 1,
   "id": "9c4bb7c2",
   "metadata": {},
   "outputs": [],
   "source": [
    "import pandas as pd"
   ]
  },
  {
   "cell_type": "code",
   "execution_count": 2,
   "id": "3e1fbbb1",
   "metadata": {},
   "outputs": [
    {
     "name": "stdout",
     "output_type": "stream",
     "text": [
      "[3, 5, 6, 87, 86, 4, 3.3, 'rahul']\n"
     ]
    }
   ],
   "source": [
    "lst = [3,5,6,87,86,4,3.3,\"rahul\"]\n",
    "print(lst)"
   ]
  },
  {
   "cell_type": "code",
   "execution_count": 3,
   "id": "2f8a8539",
   "metadata": {},
   "outputs": [
    {
     "name": "stdout",
     "output_type": "stream",
     "text": [
      "0        3\n",
      "1        5\n",
      "2        6\n",
      "3       87\n",
      "4       86\n",
      "5        4\n",
      "6      3.3\n",
      "7    rahul\n",
      "dtype: object\n"
     ]
    },
    {
     "data": {
      "text/plain": [
       "pandas.core.series.Series"
      ]
     },
     "execution_count": 3,
     "metadata": {},
     "output_type": "execute_result"
    }
   ],
   "source": [
    "series1 = pd.Series(lst)\n",
    "print(series1)\n",
    "type(series1)"
   ]
  },
  {
   "cell_type": "code",
   "execution_count": 4,
   "id": "e4be60fd",
   "metadata": {},
   "outputs": [
    {
     "name": "stdout",
     "output_type": "stream",
     "text": [
      "0    3\n",
      "1    4\n",
      "2    5\n",
      "3    6\n",
      "dtype: int64\n"
     ]
    }
   ],
   "source": [
    "series2 = pd.Series([3,4,5,6])\n",
    "print(series2)"
   ]
  },
  {
   "cell_type": "code",
   "execution_count": 5,
   "id": "c1d30d91",
   "metadata": {},
   "outputs": [
    {
     "name": "stdout",
     "output_type": "stream",
     "text": [
      "Series([], dtype: float64)\n"
     ]
    },
    {
     "name": "stderr",
     "output_type": "stream",
     "text": [
      "C:\\Users\\DELL\\AppData\\Local\\Temp\\ipykernel_2036\\3878301290.py:1: DeprecationWarning: The default dtype for empty Series will be 'object' instead of 'float64' in a future version. Specify a dtype explicitly to silence this warning.\n",
      "  empty_s = pd.Series([])\n"
     ]
    }
   ],
   "source": [
    "empty_s = pd.Series([])\n",
    "print(empty_s)"
   ]
  },
  {
   "cell_type": "code",
   "execution_count": 6,
   "id": "451dba83",
   "metadata": {},
   "outputs": [
    {
     "name": "stdout",
     "output_type": "stream",
     "text": [
      "a    9\n",
      "b    5\n",
      "c    3\n",
      "d    3\n",
      "dtype: int64\n"
     ]
    }
   ],
   "source": [
    "series3 = pd.Series([9,5,3,3],index = ['a','b','c','d'])\n",
    "print(series3)"
   ]
  },
  {
   "cell_type": "code",
   "execution_count": 7,
   "id": "6ee36be4",
   "metadata": {},
   "outputs": [
    {
     "name": "stdout",
     "output_type": "stream",
     "text": [
      "a    9.0\n",
      "b    5.0\n",
      "c    3.0\n",
      "d    3.0\n",
      "dtype: float64\n"
     ]
    }
   ],
   "source": [
    "series3 = pd.Series([9,5,3,3],index = ['a','b','c','d'],dtype = float)\n",
    "print(series3)"
   ]
  },
  {
   "cell_type": "code",
   "execution_count": 8,
   "id": "b4f38e5a",
   "metadata": {},
   "outputs": [
    {
     "name": "stdout",
     "output_type": "stream",
     "text": [
      "a    9.0\n",
      "b    5.0\n",
      "c    3.0\n",
      "d    3.0\n",
      "Name: Data Values, dtype: float64\n"
     ]
    }
   ],
   "source": [
    "series3 = pd.Series([9,5,3,3],index = ['a','b','c','d'],dtype = float,name=\"Data Values\")\n",
    "print(series3)"
   ]
  },
  {
   "cell_type": "code",
   "execution_count": 9,
   "id": "17c59a3f",
   "metadata": {},
   "outputs": [
    {
     "name": "stdout",
     "output_type": "stream",
     "text": [
      "0    0.5\n",
      "dtype: float64\n"
     ]
    }
   ],
   "source": [
    "series5= pd.Series(0.5)\n",
    "print(series5)"
   ]
  },
  {
   "cell_type": "code",
   "execution_count": 10,
   "id": "80f849bb",
   "metadata": {},
   "outputs": [
    {
     "name": "stdout",
     "output_type": "stream",
     "text": [
      "1    0.5\n",
      "2    0.5\n",
      "3    0.5\n",
      "dtype: float64\n"
     ]
    }
   ],
   "source": [
    "series5= pd.Series(0.5, index= [1,2,3])\n",
    "print(series5)"
   ]
  },
  {
   "cell_type": "code",
   "execution_count": 11,
   "id": "e6527446",
   "metadata": {},
   "outputs": [
    {
     "name": "stdout",
     "output_type": "stream",
     "text": [
      "Name      Rahul Gaur\n",
      "Age               22\n",
      "Skills            ML\n",
      "dtype: object\n"
     ]
    }
   ],
   "source": [
    "dict_s = pd.Series({\"Name\":\"Rahul Gaur\",\"Age\":22,\"Skills\":\"ML\"})\n",
    "print(dict_s)"
   ]
  },
  {
   "cell_type": "code",
   "execution_count": 12,
   "id": "cc5a49f5",
   "metadata": {},
   "outputs": [
    {
     "name": "stdout",
     "output_type": "stream",
     "text": [
      "0    1\n",
      "1    2\n",
      "2    3\n",
      "3    4\n",
      "4    5\n",
      "dtype: int64\n"
     ]
    }
   ],
   "source": [
    "s4 = pd.Series([1,2,3,4,5])\n",
    "print(s4)"
   ]
  },
  {
   "cell_type": "code",
   "execution_count": 13,
   "id": "b2d1dfb6",
   "metadata": {},
   "outputs": [
    {
     "data": {
      "text/plain": [
       "3"
      ]
     },
     "execution_count": 13,
     "metadata": {},
     "output_type": "execute_result"
    }
   ],
   "source": [
    "s4[2]"
   ]
  },
  {
   "cell_type": "code",
   "execution_count": 14,
   "id": "87670c6c",
   "metadata": {},
   "outputs": [
    {
     "data": {
      "text/plain": [
       "1    2\n",
       "2    3\n",
       "3    4\n",
       "dtype: int64"
      ]
     },
     "execution_count": 14,
     "metadata": {},
     "output_type": "execute_result"
    }
   ],
   "source": [
    "s4[1:4]"
   ]
  },
  {
   "cell_type": "code",
   "execution_count": 15,
   "id": "9eab7e5d",
   "metadata": {},
   "outputs": [
    {
     "data": {
      "text/plain": [
       "5"
      ]
     },
     "execution_count": 15,
     "metadata": {},
     "output_type": "execute_result"
    }
   ],
   "source": [
    "max(s4)"
   ]
  },
  {
   "cell_type": "code",
   "execution_count": 16,
   "id": "d72dec10",
   "metadata": {},
   "outputs": [
    {
     "data": {
      "text/plain": [
       "1"
      ]
     },
     "execution_count": 16,
     "metadata": {},
     "output_type": "execute_result"
    }
   ],
   "source": [
    "min(s4)"
   ]
  },
  {
   "cell_type": "code",
   "execution_count": 17,
   "id": "10ea87a2",
   "metadata": {},
   "outputs": [
    {
     "data": {
      "text/plain": [
       "3    4\n",
       "4    5\n",
       "dtype: int64"
      ]
     },
     "execution_count": 17,
     "metadata": {},
     "output_type": "execute_result"
    }
   ],
   "source": [
    "s4[s4>3]"
   ]
  },
  {
   "cell_type": "code",
   "execution_count": 18,
   "id": "2973b2af",
   "metadata": {},
   "outputs": [
    {
     "name": "stdout",
     "output_type": "stream",
     "text": [
      "0    1\n",
      "1    2\n",
      "2    3\n",
      "3    4\n",
      "4    5\n",
      "dtype: int64\n"
     ]
    }
   ],
   "source": [
    "s5 = pd.Series([1,2,3,4,5])\n",
    "print(s5)"
   ]
  },
  {
   "cell_type": "code",
   "execution_count": 19,
   "id": "33947234",
   "metadata": {},
   "outputs": [
    {
     "data": {
      "text/plain": [
       "0     2\n",
       "1     4\n",
       "2     6\n",
       "3     8\n",
       "4    10\n",
       "dtype: int64"
      ]
     },
     "execution_count": 19,
     "metadata": {},
     "output_type": "execute_result"
    }
   ],
   "source": [
    "s4+s5"
   ]
  },
  {
   "cell_type": "code",
   "execution_count": 20,
   "id": "b84e50c5",
   "metadata": {},
   "outputs": [
    {
     "name": "stdout",
     "output_type": "stream",
     "text": [
      "0    1\n",
      "1    2\n",
      "2    3\n",
      "dtype: int64\n"
     ]
    }
   ],
   "source": [
    "s6 = pd.Series([1,2,3])\n",
    "print(s6)"
   ]
  },
  {
   "cell_type": "code",
   "execution_count": 21,
   "id": "8a0777ac",
   "metadata": {},
   "outputs": [
    {
     "data": {
      "text/plain": [
       "0    2.0\n",
       "1    4.0\n",
       "2    6.0\n",
       "3    NaN\n",
       "4    NaN\n",
       "dtype: float64"
      ]
     },
     "execution_count": 21,
     "metadata": {},
     "output_type": "execute_result"
    }
   ],
   "source": [
    "s5+s6"
   ]
  },
  {
   "cell_type": "code",
   "execution_count": 22,
   "id": "9b20883c",
   "metadata": {},
   "outputs": [
    {
     "name": "stdout",
     "output_type": "stream",
     "text": [
      "0       ok\n",
      "1    rahul\n",
      "2     gaur\n",
      "dtype: object\n"
     ]
    }
   ],
   "source": [
    "ok = pd.Series([\"ok\",\"rahul\",\"gaur\"])\n",
    "print(ok)"
   ]
  },
  {
   "cell_type": "code",
   "execution_count": 23,
   "id": "558f9ec5",
   "metadata": {},
   "outputs": [
    {
     "name": "stdout",
     "output_type": "stream",
     "text": [
      "0       my\n",
      "1     name\n",
      "2       is\n",
      "3    rahul\n",
      "4     gaur\n",
      "dtype: object\n"
     ]
    }
   ],
   "source": [
    "rahulgaur = pd.Series([\"my\",\"name\",\"is\",\"rahul\",\"gaur\"])\n",
    "print(rahulgaur)"
   ]
  },
  {
   "cell_type": "code",
   "execution_count": null,
   "id": "c643a8ff",
   "metadata": {},
   "outputs": [],
   "source": []
  }
 ],
 "metadata": {
  "interpreter": {
   "hash": "5addf786bcd861d1ce5006f23111f8cbb206731e5b61b0a5632ba9e0252558a8"
  },
  "kernelspec": {
   "display_name": "Python 3 (ipykernel)",
   "language": "python",
   "name": "python3"
  },
  "language_info": {
   "codemirror_mode": {
    "name": "ipython",
    "version": 3
   },
   "file_extension": ".py",
   "mimetype": "text/x-python",
   "name": "python",
   "nbconvert_exporter": "python",
   "pygments_lexer": "ipython3",
   "version": "3.9.5"
  }
 },
 "nbformat": 4,
 "nbformat_minor": 5
}
